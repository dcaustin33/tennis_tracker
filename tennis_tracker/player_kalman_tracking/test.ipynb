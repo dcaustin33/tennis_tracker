{
 "cells": [
  {
   "cell_type": "code",
   "execution_count": 3,
   "metadata": {},
   "outputs": [],
   "source": [
    "from object_tracking.kalman_filter.schema_nd import Kalman2DTracker"
   ]
  },
  {
   "cell_type": "code",
   "execution_count": null,
   "metadata": {},
   "outputs": [],
   "source": [
    "import cv2\n",
    "import numpy as np\n",
    "from tqdm import tqdm\n",
    "\n",
    "from tennis_tracker.download_data.extract_keypoints import read_json_file\n",
    "\n",
    "\n",
    "def get_next_frame(data_entry: dict, court_image: np.array):\n",
    "    \"\"\"We want to get tracked points and draw them on the court image\"\"\"\n",
    "    tracked_points = data_entry[\"transformed_coords\"]\n",
    "    original_image = cv2.imread(data_entry[\"actual_path\"])\n",
    "    original_image = cv2.resize(original_image, (640, 480))\n",
    "    for point in tracked_points:\n",
    "        cv2.circle(court_image, [int(p) for p in point], 10, (0, 0, 255), -1)\n",
    "    return original_image, tracked_points\n",
    "\n",
    "FILE_PATH = (\n",
    "    \"/Users/derek/Desktop/tennis_tracker/tennis_tracker/psudeo_label/clean_labels.json\"\n",
    ")\n",
    "FPS = 30\n",
    "FRAME_WIDTH, FRAME_HEIGHT = 640, 480\n",
    "COURT_HEIGHT = 799\n",
    "COURT_WIDTH = 560\n",
    "VIDEO_PATH = \"/Users/derek/Desktop/tennis_tracker/tennis_tracker/download_data/dataset/Tiafoe Takes On Evans; Khachanov& Mannarino Also In Action ｜ Almaty 2024 Highlights Day 4 [Q1iTjk444RU].webm\"\n",
    "\n"
   ]
  }
 ],
 "metadata": {
  "kernelspec": {
   "display_name": ".venv",
   "language": "python",
   "name": "python3"
  },
  "language_info": {
   "codemirror_mode": {
    "name": "ipython",
    "version": 3
   },
   "file_extension": ".py",
   "mimetype": "text/x-python",
   "name": "python",
   "nbconvert_exporter": "python",
   "pygments_lexer": "ipython3",
   "version": "3.10.14"
  }
 },
 "nbformat": 4,
 "nbformat_minor": 2
}
