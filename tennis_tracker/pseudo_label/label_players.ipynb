{
 "cells": [
  {
   "cell_type": "code",
   "execution_count": 3,
   "metadata": {},
   "outputs": [
    {
     "name": "stdout",
     "output_type": "stream",
     "text": [
      "final text_encoder_type: bert-base-uncased\n"
     ]
    }
   ],
   "source": [
    "from groundingdino.util.inference import load_model, load_image, predict, annotate, batch_predict\n",
    "import cv2\n",
    "import torch\n",
    "from tennis_tracker.download_data.extract_keypoints import read_json_file, write_to_jsonl_file\n",
    "\n",
    "model = load_model(\n",
    "    \"/Users/derek/Desktop/tennis_tracker/GroundingDINO/groundingdino/config/GroundingDINO_SwinT_OGC.py\", \n",
    "    \"/Users/derek/Desktop/tennis_tracker/GroundingDINO/groundingdino_swint_ogc.pth\"\n",
    ")\n",
    "device = \"cuda\" if torch.cuda.is_available() else \"cpu\"\n",
    "model = model.to(device)\n",
    "TEXT_PROMPT = \"tennis player\"\n",
    "BOX_TRESHOLD = 0.35\n",
    "TEXT_TRESHOLD = 0.25\n",
    "JSONL_PATH = \"/Users/derek/Desktop/tennis_tracker/tennis_tracker/download_data/labels.json\"\n",
    "\n",
    "data = read_json_file(JSONL_PATH)\n",
    "model = torch.compile(model)"
   ]
  },
  {
   "cell_type": "code",
   "execution_count": null,
   "metadata": {},
   "outputs": [],
   "source": [
    "import os\n",
    "\n",
    "batch_size = 10\n",
    "images = os.listdir(\"/Users/derek/Desktop/GroundingDINO/oct15\")\n",
    "OUTPUT_JSONL_PATH = \"boxes.jsonl\"\n",
    "\n",
    "for i in tqdm(range(0, len(img_paths), batch_size)):\n",
    "    batch_images = images[i:i+batch_size]\n",
    "    loaded_images = []\n",
    "    for image in batch_images:\n",
    "        image_source, image = load_image(image)\n",
    "        loaded_images.append(image)\n",
    "    input_images = torch.stack(loaded_images)\n",
    "    boxes, logits, boxes_to_im = batch_predict(\n",
    "        model=model,\n",
    "        preprocessed_images=input_images,\n",
    "        caption=TEXT_PROMPT,\n",
    "        box_threshold=BOX_TRESHOLD,\n",
    "        text_threshold=TEXT_TRESHOLD,\n",
    "        device=device\n",
    "    )\n",
    "    lines = []\n",
    "    for im_num in range(len(batch_images)):\n",
    "        # get all the boxes that correspond to this image\n",
    "        im_boxes = boxes[torch.Tensor(boxes_to_im) == im_num]\n",
    "        all_boxes = []\n",
    "        for box in im_boxes:\n",
    "            all_boxes.append(f\"0 {box[0]} {box[1]} {box[2]} {box[3]}\")\n",
    "        lines.append(all_boxes)\n",
    "    if len(lines) > 100:\n",
    "        write_to_jsonl_file(OUTPUT_JSONL_PATH, lines)\n",
    "    \n"
   ]
  },
  {
   "cell_type": "code",
   "execution_count": 4,
   "metadata": {},
   "outputs": [
    {
     "data": {
      "text/plain": [
       "'\\ud83c\\udfc6'"
      ]
     },
     "execution_count": 4,
     "metadata": {},
     "output_type": "execute_result"
    }
   ],
   "source": [
    "import urllib.parse\n",
    "input_string = \"/Users/derek/Desktop/tennis_tracker/tennis_tracker/download_data/frames/Jannik Sinner vs Carlos Alcaraz For The Title! \\ud83c\\udfc6 \\uff5c Beijing 2024 Final Highlights [Kv_obyZNKl4]/100.png\"\n",
    "urllib.parse.unquote(\"\\ud83c\\udfc6\")"
   ]
  },
  {
   "cell_type": "code",
   "execution_count": 1,
   "metadata": {},
   "outputs": [],
   "source": [
    "from tennis_tracker.download_data.extract_keypoints import read_json_file\n",
    "from tennis_tracker.player_location.homography import transform_points\n",
    "import numpy as np\n",
    "\n",
    "file_path = \"/Users/derek/Desktop/tennis_tracker/tennis_tracker/download_data/labels.json\"\n",
    "data = read_json_file(file_path)\n",
    "img_path = list(data.keys())[0]\n",
    "img_dims = data[img_path]['image_dims'].copy()\n",
    "m = np.array(data[img_path]['m'].copy())\n",
    "im_boxes = [[.55, .55, .1, .1]]\n",
    "output = transform_points(m, im_boxes, img_dims)"
   ]
  },
  {
   "cell_type": "code",
   "execution_count": 5,
   "metadata": {},
   "outputs": [
    {
     "data": {
      "text/plain": [
       "[[239.55728149414062, 699.5716552734375]]"
      ]
     },
     "execution_count": 5,
     "metadata": {},
     "output_type": "execute_result"
    }
   ],
   "source": [
    "output"
   ]
  },
  {
   "cell_type": "code",
   "execution_count": 3,
   "metadata": {},
   "outputs": [
    {
     "data": {
      "text/plain": [
       "<matplotlib.image.AxesImage at 0x12e9035e0>"
      ]
     },
     "execution_count": 3,
     "metadata": {},
     "output_type": "execute_result"
    },
    {
     "data": {
      "image/png": "[encoded data removed]",
      "text/plain": [
       "<Figure size 640x480 with 1 Axes>"
      ]
     },
     "metadata": {},
     "output_type": "display_data"
    }
   ],
   "source": [
    "from PIL import Image\n",
    "import matplotlib.pyplot as plt\n",
    "\n",
    "img = Image.open(\"/Users/derek/Desktop/tennis_tracker/tennis_tracker/player_location/padded_court.jpg\")\n",
    "plt.imshow(img)"
   ]
  }
 ],
 "metadata": {
  "kernelspec": {
   "display_name": ".venv",
   "language": "python",
   "name": "python3"
  },
  "language_info": {
   "codemirror_mode": {
    "name": "ipython",
    "version": 3
   },
   "file_extension": ".py",
   "mimetype": "text/x-python",
   "name": "python",
   "nbconvert_exporter": "python",
   "pygments_lexer": "ipython3",
   "version": "3.10.14"
  }
 },
 "nbformat": 4,
 "nbformat_minor": 2
}
