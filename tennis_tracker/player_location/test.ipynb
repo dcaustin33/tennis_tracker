{
 "cells": [
  {
   "cell_type": "code",
   "execution_count": 1,
   "metadata": {},
   "outputs": [
    {
     "name": "stderr",
     "output_type": "stream",
     "text": [
      "/var/folders/s3/bqcdtp2s6652tsxqm4hhv4gr0000gn/T/ipykernel_10771/2353270434.py:9: FutureWarning: You are using `torch.load` with `weights_only=False` (the current default value), which uses the default pickle module implicitly. It is possible to construct malicious pickle data which will execute arbitrary code during unpickling (See https://github.com/pytorch/pytorch/blob/main/SECURITY.md#untrusted-models for more details). In a future release, the default value for `weights_only` will be flipped to `True`. This limits the functions that could be executed during unpickling. Arbitrary objects will no longer be allowed to be loaded via this mode unless they are explicitly allowlisted by the user via `torch.serialization.add_safe_globals`. We recommend you start setting `weights_only=True` for any use case where you don't have full control of the loaded file. Please open an issue on GitHub for any issues related to this experimental feature.\n",
      "  model.load_state_dict(torch.load(\"model_tennis_court_det.pt\", map_location=\"mps\"))\n"
     ]
    },
    {
     "name": "stdout",
     "output_type": "stream",
     "text": [
      "[(None, None), (None, None), (None, None), (None, None), (None, None), (None, None), (None, None), (None, None), (None, None), (None, None), (None, None), (None, None), (None, None), (None, None)]\n"
     ]
    }
   ],
   "source": [
    "import cv2\n",
    "import numpy as np\n",
    "import torch\n",
    "import torch.nn.functional as F\n",
    "\n",
    "from tennis_tracker.player_location.tracknet import BallTrackerNet\n",
    "from tennis_tracker.player_location.postprocess import postprocess\n",
    "model = BallTrackerNet(out_channels=15)\n",
    "model.load_state_dict(torch.load(\"model_tennis_court_det.pt\", map_location=\"mps\"))\n",
    "model.eval()\n",
    "\n",
    "im = cv2.imread(\"test2.png\")\n",
    "im = cv2.resize(im, (640, 360))\n",
    "im = im.astype(np.float32) / 255.\n",
    "im = np.rollaxis(im, 2, 0)\n",
    "im = torch.tensor(im)\n",
    "im = im.unsqueeze(0)\n",
    "\n",
    "out = model(im)\n",
    "pred = F.sigmoid(out).cpu().detach().numpy()[0]\n",
    "points = []\n",
    "for kps_num in range(14):\n",
    "    heatmap = (pred[kps_num] * 255).astype(np.uint8)\n",
    "    x_pred, y_pred = postprocess(heatmap, scale=2, low_thresh=170, max_radius=25)\n",
    "    points.append((x_pred, y_pred))\n",
    "print(points)"
   ]
  }
 ],
 "metadata": {
  "kernelspec": {
   "display_name": ".venv",
   "language": "python",
   "name": "python3"
  },
  "language_info": {
   "codemirror_mode": {
    "name": "ipython",
    "version": 3
   },
   "file_extension": ".py",
   "mimetype": "text/x-python",
   "name": "python",
   "nbconvert_exporter": "python",
   "pygments_lexer": "ipython3",
   "version": "3.10.14"
  }
 },
 "nbformat": 4,
 "nbformat_minor": 2
}
