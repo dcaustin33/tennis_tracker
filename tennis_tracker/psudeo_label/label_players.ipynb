{
 "cells": [
  {
   "cell_type": "code",
   "execution_count": null,
   "metadata": {},
   "outputs": [],
   "source": [
    "from groundingdino.util.inference import load_model, load_image, predict, annotate, batch_predict\n",
    "import cv2\n",
    "import torch\n",
    "from tennis_tracker.download_data.extract_keypoints import read_jsonl, write_to_jsonl_file\n",
    "\n",
    "model = load_model(\n",
    "    \"GroundingDINO_SwinT_OGC.py\", \n",
    "    \"/Users/derek/Desktop/GroundingDINO/groundingdino_swint_ogc.pth\"\n",
    ")\n",
    "device = \"cuda\" if torch.cuda.is_available() else \"cpu\"\n",
    "model = model.to(device)\n",
    "TEXT_PROMPT = \"tennis player\"\n",
    "BOX_TRESHOLD = 0.35\n",
    "TEXT_TRESHOLD = 0.25\n",
    "JSONL_PATH = \"/Users/derek/Desktop/tennis_tracker/tennis_tracker/download_data/labels.jsonl\"\n",
    "\n",
    "data = read_jsonl(JSONL_PATH)\n",
    "img_paths = [line['img_path'] for line in data]"
   ]
  },
  {
   "cell_type": "code",
   "execution_count": null,
   "metadata": {},
   "outputs": [],
   "source": [
    "import os\n",
    "\n",
    "batch_size = 10\n",
    "images = os.listdir(\"/Users/derek/Desktop/GroundingDINO/oct15\")\n",
    "OUTPUT_JSONL_PATH = \"boxes.jsonl\"\n",
    "\n",
    "for i in tqdm(range(0, len(img_paths), batch_size)):\n",
    "    batch_images = images[i:i+batch_size]\n",
    "    loaded_images = []\n",
    "    for image in batch_images:\n",
    "        image_source, image = load_image(image)\n",
    "        loaded_images.append(image)\n",
    "    input_images = torch.stack(loaded_images)\n",
    "    boxes, logits, boxes_to_im = batch_predict(\n",
    "        model=model,\n",
    "        preprocessed_images=input_images,\n",
    "        caption=TEXT_PROMPT,\n",
    "        box_threshold=BOX_TRESHOLD,\n",
    "        text_threshold=TEXT_TRESHOLD,\n",
    "        device=device\n",
    "    )\n",
    "    lines = []\n",
    "    for im_num in range(len(batch_images)):\n",
    "        # get all the boxes that correspond to this image\n",
    "        im_boxes = boxes[torch.Tensor(boxes_to_im) == im_num]\n",
    "        all_boxes = []\n",
    "        for box in im_boxes:\n",
    "            all_boxes.append(f\"0 {box[0]} {box[1]} {box[2]} {box[3]}\")\n",
    "        lines.append(all_boxes)\n",
    "    if len(lines) > 100:\n",
    "        write_to_jsonl_file(OUTPUT_JSONL_PATH, lines)\n",
    "    \n"
   ]
  },
  {
   "cell_type": "code",
   "execution_count": 4,
   "metadata": {},
   "outputs": [
    {
     "data": {
      "text/plain": [
       "'\\ud83c\\udfc6'"
      ]
     },
     "execution_count": 4,
     "metadata": {},
     "output_type": "execute_result"
    }
   ],
   "source": [
    "import urllib.parse\n",
    "input_string = \"/Users/derek/Desktop/tennis_tracker/tennis_tracker/download_data/frames/Jannik Sinner vs Carlos Alcaraz For The Title! \\ud83c\\udfc6 \\uff5c Beijing 2024 Final Highlights [Kv_obyZNKl4]/100.png\"\n",
    "urllib.parse.unquote(\"\\ud83c\\udfc6\")"
   ]
  },
  {
   "cell_type": "code",
   "execution_count": 5,
   "metadata": {},
   "outputs": [],
   "source": [
    "\n",
    "\n",
    "with open(\"label.json\", \"w\") as f:\n",
    "    pass"
   ]
  }
 ],
 "metadata": {
  "kernelspec": {
   "display_name": ".venv",
   "language": "python",
   "name": "python3"
  },
  "language_info": {
   "codemirror_mode": {
    "name": "ipython",
    "version": 3
   },
   "file_extension": ".py",
   "mimetype": "text/x-python",
   "name": "python",
   "nbconvert_exporter": "python",
   "pygments_lexer": "ipython3",
   "version": "3.10.14"
  }
 },
 "nbformat": 4,
 "nbformat_minor": 2
}
