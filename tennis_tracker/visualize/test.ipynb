{
 "cells": [
  {
   "cell_type": "code",
   "execution_count": 1,
   "metadata": {},
   "outputs": [],
   "source": [
    "from tennis_tracker.download_data.extract_keypoints import read_json_file\n",
    "import os\n",
    "\n",
    "FILE_PATH = \"/Users/derek/Desktop/tennis_tracker/tennis_tracker/psudeo_label/clean_labels.json\"\n",
    "\n",
    "data = read_json_file(FILE_PATH)\n",
    "\n",
    "key1 = list(data.keys())[0]\n",
    "actual_key = key1.split(\"/tennis_tracker/\")[1]\n",
    "actual_path = os.path.join(\"/Users/derek/Desktop/tennis_tracker\", actual_key).replace(\" &\", \"&\")"
   ]
  },
  {
   "cell_type": "code",
   "execution_count": 41,
   "metadata": {},
   "outputs": [],
   "source": [
    "\n"
   ]
  },
  {
   "cell_type": "code",
   "execution_count": 33,
   "metadata": {},
   "outputs": [
    {
     "data": {
      "text/plain": [
       "[360, 640]"
      ]
     },
     "execution_count": 33,
     "metadata": {},
     "output_type": "execute_result"
    }
   ],
   "source": [
    "import cv2\n",
    "import numpy as np\n",
    "\n",
    "FILE_PATH = \"/Users/derek/Desktop/tennis_tracker/tennis_tracker/psudeo_label/clean_labels.json\"\n",
    "FPS = 30\n",
    "FRAME_WIDTH, FRAME_HEIGHT = 640, 480\n",
    "COURT_HEIGHT = 799\n",
    "COURT_WIDTH = 560\n",
    "\n",
    "def get_next_frame(data_entry: dict, court_image: np.array):\n",
    "    \"\"\"We want to get tracked points and draw them on the court image\"\"\"\n",
    "    tracked_points = data_entry['transformed_coords']\n",
    "    original_image = cv2.imread(data_entry['actual_path'])\n",
    "    original_image = cv2.resize(original_image, (640, 480))\n",
    "    for point in tracked_points:\n",
    "        cv2.circle(court_image, point, 10, (0, 0, 255), -1)\n",
    "    return original_image, tracked_points\n",
    "\n",
    "\n",
    "data = read_json_file(FILE_PATH)\n",
    "\n",
    "tiafoe_video_frames = []\n",
    "keys = list(data.keys())\n",
    "for key in keys:\n",
    "    if \"Tiafoe\" in key:\n",
    "        tiafoe_video_frames.append((key, int(key.split(\"/\")[-1].split(\".\")[0])))\n",
    "\n",
    "tiafoe_video_frames.sort(key=lambda x: x[1])\n",
    "tiafoe_video_frames = [x[0] for x in tiafoe_video_frames]\n",
    "\n",
    "\n",
    "\n",
    "output_video = cv2.VideoWriter('tennis_tracking_output.avi', cv2.VideoWriter_fourcc(*'XVID'), FPS, (FRAME_WIDTH + COURT_WIDTH, FRAME_HEIGHT + COURT_HEIGHT))\n",
    "for i in range(len(data)):\n",
    "    court_image = cv2.imread(\"/Users/derek/Desktop/tennis_tracker/tennis_tracker/player_location/padded_court.jpg\")\n",
    "    original_frame, tracked_points = get_next_frame(data[i])\n",
    "    combined_frame = np.hstack((court_image, original_frame))\n",
    "    cv2.imshow(\"Tennis Tracking\", combined_frame)\n",
    "    output_video.write(combined_frame)\n",
    "    if cv2.waitKey(int(1000 / FPS)) & 0xFF == ord('q'):\n",
    "        break\n"
   ]
  }
 ],
 "metadata": {
  "kernelspec": {
   "display_name": ".venv",
   "language": "python",
   "name": "python3"
  },
  "language_info": {
   "codemirror_mode": {
    "name": "ipython",
    "version": 3
   },
   "file_extension": ".py",
   "mimetype": "text/x-python",
   "name": "python",
   "nbconvert_exporter": "python",
   "pygments_lexer": "ipython3",
   "version": "3.10.14"
  }
 },
 "nbformat": 4,
 "nbformat_minor": 2
}
