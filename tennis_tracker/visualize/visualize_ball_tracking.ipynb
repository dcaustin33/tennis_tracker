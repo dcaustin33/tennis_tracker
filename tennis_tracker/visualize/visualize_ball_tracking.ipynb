{
 "cells": [
  {
   "cell_type": "code",
   "execution_count": 1,
   "metadata": {},
   "outputs": [
    {
     "name": "stderr",
     "output_type": "stream",
     "text": [
      "TqdmWarning: IProgress not found. Please update jupyter and ipywidgets. See https://ipywidgets.readthedocs.io/en/stable/user_install.html\n",
      "FutureWarning: Importing from timm.models.layers is deprecated, please import via timm.layers\n",
      "UserWarning: Failed to load custom C++ ops. Running on CPU mode Only!\n"
     ]
    }
   ],
   "source": [
    "import cv2\n",
    "import numpy as np\n",
    "from tqdm import tqdm\n",
    "import matplotlib.pyplot as plt\n",
    "\n",
    "from tennis_tracker.download_data.extract_keypoints import read_json_file\n",
    "from groundingdino.util.inference import load_image_quarters\n",
    "\n",
    "def plot_quarter(box: list, image: np.array):\n",
    "    plt.imshow(image)\n",
    "    cx, cy, w, h = box\n",
    "    image_height, image_width, _ = image.shape\n",
    "    x1 = int((cx - w/2) * image_width)\n",
    "    x2 = int((cx + w/2) * image_width)\n",
    "    y1 = int((cy - h/2) * image_height)\n",
    "    y2 = int((cy + h/2) * image_height) \n",
    "    plt.gca().add_patch(plt.Rectangle((x1, y1), x2 - x1, y2 - y1, color='red', fill=False))\n",
    "    plt.show()\n",
    "\n",
    "FILE_PATH = (\n",
    "    \"/Users/derek/Desktop/tennis_tracker/tennis_tracker/ball_tracking/labels.json\"\n",
    ")\n",
    "FPS = 30\n",
    "FRAME_WIDTH, FRAME_HEIGHT = 640, 480\n",
    "COURT_HEIGHT = 799\n",
    "COURT_WIDTH = 560\n",
    "VIDEO_PATH = \"/Users/derek/Desktop/tennis_tracker/tennis_tracker/download_data/dataset/Tiafoe Takes On Evans; Khachanov& Mannarino Also In Action ｜ Almaty 2024 Highlights Day 4 [Q1iTjk444RU].webm\"\n",
    "\n",
    "\n",
    "def get_next_frame(data_entry: dict, court_image: np.array):\n",
    "    \"\"\"We want to get tracked points and draw them on the court image\"\"\"\n",
    "    tracked_points = data_entry[\"ball_tracking_transformed_coords\"]\n",
    "    original_image = cv2.imread(data_entry[\"actual_path\"])\n",
    "    original_image = cv2.resize(original_image, (640, 480))\n",
    "    original_image = cv2.cvtColor(original_image, cv2.COLOR_BGR2RGB)\n",
    "    for point in tracked_points:\n",
    "        cv2.circle(court_image, [int(p) for p in point], 10, (0, 0, 255), -1)\n",
    "    return original_image, tracked_points\n",
    "\n",
    "\n",
    "data = read_json_file(FILE_PATH)\n",
    "\n",
    "tiafoe_video_frames = []\n",
    "keys = list(data.keys())\n",
    "for key in keys:\n",
    "    if \"Tiafoe\" in key:\n",
    "        tiafoe_video_frames.append((key, int(key.split(\"/\")[-1].split(\".\")[0])))\n",
    "\n",
    "tiafoe_video_frames.sort(key=lambda x: x[1])\n",
    "tiafoe_video_frames = [x[0] for x in tiafoe_video_frames]\n",
    "court_image = cv2.imread(\n",
    "    \"/Users/derek/Desktop/tennis_tracker/tennis_tracker/player_location/padded_court.jpg\"\n",
    ")\n",
    "\n",
    "idx = 9\n",
    "path = data[tiafoe_video_frames[idx]]['actual_path']\n",
    "quarters = load_image_quarters(path)"
   ]
  }
 ],
 "metadata": {
  "kernelspec": {
   "display_name": ".venv",
   "language": "python",
   "name": "python3"
  },
  "language_info": {
   "codemirror_mode": {
    "name": "ipython",
    "version": 3
   },
   "file_extension": ".py",
   "mimetype": "text/x-python",
   "name": "python",
   "nbconvert_exporter": "python",
   "pygments_lexer": "ipython3",
   "version": "3.10.14"
  }
 },
 "nbformat": 4,
 "nbformat_minor": 2
}
